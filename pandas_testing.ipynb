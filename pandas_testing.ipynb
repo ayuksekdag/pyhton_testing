{
  "nbformat": 4,
  "nbformat_minor": 0,
  "metadata": {
    "colab": {
      "provenance": [],
      "authorship_tag": "ABX9TyMdh9RbS1ysUnJdeFglhot4",
      "include_colab_link": true
    },
    "kernelspec": {
      "name": "python3",
      "display_name": "Python 3"
    },
    "language_info": {
      "name": "python"
    }
  },
  "cells": [
    {
      "cell_type": "markdown",
      "metadata": {
        "id": "view-in-github",
        "colab_type": "text"
      },
      "source": [
        "<a href=\"https://colab.research.google.com/github/ayuksekdag/pyhton_testing/blob/main/pandas_testing.ipynb\" target=\"_parent\"><img src=\"https://colab.research.google.com/assets/colab-badge.svg\" alt=\"Open In Colab\"/></a>"
      ]
    },
    {
      "cell_type": "code",
      "execution_count": 60,
      "metadata": {
        "id": "ICkvHQp-auPu"
      },
      "outputs": [],
      "source": [
        "import pandas as pd\n",
        "import numpy as np\n",
        "import logging\n",
        "\n",
        "pd.pandas.__version__\n",
        "\n",
        "\n",
        "logger = logging.getLogger(__name__)\n",
        "logging.basicConfig(filename='/tmp/my_log_file.log', level=logging.INFO, format='%(asctime)s - %(levelname)s - %(message)s')\n"
      ]
    },
    {
      "cell_type": "code",
      "source": [
        "def compare_dataframes(df1, df2):\n",
        "    try:\n",
        "        pd.testing.assert_frame_equal(df1, df2)\n",
        "        logger.info(\"Dataframes are equal\")\n",
        "    except AssertionError as e:\n",
        "        logger.error(f\"Dataframes are not equal: {e}\")"
      ],
      "metadata": {
        "id": "rlo4CvEEgL3M"
      },
      "execution_count": 61,
      "outputs": []
    },
    {
      "cell_type": "code",
      "source": [
        "x = list(range(1,10))\n",
        "y= list(range(1,11))"
      ],
      "metadata": {
        "id": "C0ZW9E8Ha9uZ"
      },
      "execution_count": 62,
      "outputs": []
    },
    {
      "cell_type": "code",
      "source": [
        "cols=['x']\n",
        "df1 = pd.DataFrame(data=x, columns=cols)\n",
        "df2 = pd.DataFrame(data=y, columns=cols)"
      ],
      "metadata": {
        "id": "cWvzBhskbHWN"
      },
      "execution_count": 63,
      "outputs": []
    },
    {
      "cell_type": "code",
      "source": [
        "compare_dataframes(df1,df2)\n"
      ],
      "metadata": {
        "colab": {
          "base_uri": "https://localhost:8080/"
        },
        "id": "WKkYkZOxdZTT",
        "outputId": "bf8286ee-f7b1-4113-a5ae-1e8434956046"
      },
      "execution_count": 65,
      "outputs": [
        {
          "output_type": "stream",
          "name": "stderr",
          "text": [
            "ERROR:__main__:Dataframes are not equal: DataFrame are different\n",
            "\n",
            "DataFrame shape mismatch\n",
            "[left]:  (9, 1)\n",
            "[right]: (10, 1)\n"
          ]
        }
      ]
    }
  ]
}